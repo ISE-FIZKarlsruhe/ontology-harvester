{
 "cells": [
  {
   "cell_type": "code",
   "execution_count": 2,
   "id": "41c49cd6-09e2-49f4-ac9d-fa5aeb80ec54",
   "metadata": {},
   "outputs": [],
   "source": [
    "from github import Github\n",
    "from github import Auth\n",
    "import pygit2\n",
    "import pandas as pd\n",
    "import os\n",
    "import glob\n",
    "import re\n",
    "import time\n",
    "from pygit2 import Repository\n",
    "import sys\n",
    "sys.path.insert(1, './lib')\n",
    "import gitcrawl"
   ]
  },
  {
   "cell_type": "code",
   "execution_count": 3,
   "id": "cec19ff2-6002-417e-b8b6-2aefd31734fb",
   "metadata": {},
   "outputs": [],
   "source": [
    "auth = Auth.Token(\"YOUR TOKEN\")\n",
    "git = Github(auth=auth)"
   ]
  },
  {
   "cell_type": "code",
   "execution_count": 4,
   "id": "d685a393-26f4-4abf-9589-ca9bcbe75d2f",
   "metadata": {},
   "outputs": [],
   "source": [
    "folder=\"test2\"\n",
    "user = \"OCDO\""
   ]
  },
  {
   "cell_type": "code",
   "execution_count": null,
   "id": "65ec6d4f-59ed-417f-9698-7c7e78ce6e88",
   "metadata": {},
   "outputs": [
    {
     "name": "stdout",
     "output_type": "stream",
     "text": [
      "['.github', 'asmo', 'cdco', 'cdos', 'cmso-ontology', 'DSIM', 'ldo', 'mmss', 'pldo', 'podo']\n",
      "link=https://github.com/OCDO/.github\n",
      "cloned .github\n",
      "link=https://github.com/OCDO/asmo\n"
     ]
    },
    {
     "name": "stderr",
     "output_type": "stream",
     "text": [
      "Exception ignored from cffi callback <function _transfer_progress_cb at 0x000002A5823A7910>:\n",
      "Traceback (most recent call last):\n",
      "  File \"C:\\Users\\Yamir\\anaconda3\\envs\\tenv\\lib\\site-packages\\pygit2\\callbacks.py\", line 419, in wrapper\n",
      "    @wraps(f)\n",
      "KeyboardInterrupt: \n",
      "Exception ignored from cffi callback <function _transfer_progress_cb at 0x000002A5823A7910>:\n",
      "Traceback (most recent call last):\n",
      "  File \"C:\\Users\\Yamir\\anaconda3\\envs\\tenv\\lib\\site-packages\\pygit2\\callbacks.py\", line 419, in wrapper\n",
      "    @wraps(f)\n",
      "KeyboardInterrupt: \n"
     ]
    }
   ],
   "source": [
    "for repo in gitcrawl.get_user_repos(user,git):\n",
    "        time.sleep(1)\n",
    "        prefix=\"https://github.com\"\n",
    "        print(\"link=\" + prefix + \"/\"+user+\"/\"+repo)\n",
    "        gitcrawl.clone_repo(folder,user,repo)"
   ]
  },
  {
   "cell_type": "code",
   "execution_count": null,
   "id": "472f9c0e-2d56-45db-b3d9-f8b778763833",
   "metadata": {},
   "outputs": [],
   "source": []
  }
 ],
 "metadata": {
  "kernelspec": {
   "display_name": "Python 3 (ipykernel)",
   "language": "python",
   "name": "python3"
  },
  "language_info": {
   "codemirror_mode": {
    "name": "ipython",
    "version": 3
   },
   "file_extension": ".py",
   "mimetype": "text/x-python",
   "name": "python",
   "nbconvert_exporter": "python",
   "pygments_lexer": "ipython3",
   "version": "3.10.15"
  }
 },
 "nbformat": 4,
 "nbformat_minor": 5
}
