{
 "cells": [
  {
   "cell_type": "code",
   "execution_count": 4,
   "id": "54e066b9-b815-4805-a312-72f077731af6",
   "metadata": {},
   "outputs": [],
   "source": [
    "import sys\n",
    "sys.path.insert(1, './lib')\n",
    "import time\n",
    "import csv_io\n",
    "import ontoinfo\n",
    "import gitcrawl\n",
    "from github import Github\n",
    "from github import Auth\n",
    "from pygit2 import Repository\n",
    "import glob\n",
    "import re\n",
    "\n",
    "from rdflib import BNode, URIRef, Literal, Graph, Namespace\n",
    "from rdflib.collection import Collection\n",
    "from rdflib.util import guess_format\n",
    "from rdflib.namespace import RDF, XSD, RDFS, OWL, SKOS, DCTERMS, NamespaceManager\n",
    "from rdflib.plugins.sparql import prepareQuery\n",
    "from datetime import datetime\n",
    "from urllib.request import urlopen, pathname2url\n",
    "from urllib.parse import urlparse, urljoin\n",
    "from typing import Dict, List, Tuple"
   ]
  },
  {
   "cell_type": "code",
   "execution_count": 2,
   "id": "a195fb69-d225-4c1e-9f1c-3e3cd70c8810",
   "metadata": {},
   "outputs": [],
   "source": [
    "auth = Auth.Token(\"YOUR TOKEN\")\n",
    "git = Github(auth=auth)"
   ]
  },
  {
   "cell_type": "code",
   "execution_count": 5,
   "id": "66b63fe4-bca4-42da-a8f0-7473d56c08ca",
   "metadata": {},
   "outputs": [
    {
     "ename": "FileNotFoundError",
     "evalue": "[Errno 2] No such file or directory: 'C:\\\\Users\\\\Yamir\\\\Documents\\\\GitHub\\\\OntoWalker\\\\Ebr\\\\mse_ontologies.ttl'",
     "output_type": "error",
     "traceback": [
      "\u001b[1;31m---------------------------------------------------------------------------\u001b[0m",
      "\u001b[1;31mFileNotFoundError\u001b[0m                         Traceback (most recent call last)",
      "Cell \u001b[1;32mIn[5], line 6\u001b[0m\n\u001b[0;32m      4\u001b[0m this_ontology_url\u001b[38;5;241m=\u001b[39montoinfo\u001b[38;5;241m.\u001b[39mpath2url(filename)\n\u001b[0;32m      5\u001b[0m emtest\u001b[38;5;241m=\u001b[39mGraph()\n\u001b[1;32m----> 6\u001b[0m \u001b[43memtest\u001b[49m\u001b[38;5;241;43m.\u001b[39;49m\u001b[43mparse\u001b[49m\u001b[43m(\u001b[49m\u001b[43mthis_ontology_url\u001b[49m\u001b[43m)\u001b[49m\n\u001b[0;32m      7\u001b[0m \u001b[38;5;66;03m#pref = 'http://example/oekg/'\u001b[39;00m\n\u001b[0;32m      8\u001b[0m \u001b[38;5;66;03m#qres = emtest.query(classes)\u001b[39;00m\n\u001b[0;32m      9\u001b[0m \u001b[38;5;66;03m#names=[]\u001b[39;00m\n\u001b[0;32m     10\u001b[0m \u001b[38;5;66;03m#for row in qres:\u001b[39;00m\n\u001b[0;32m     11\u001b[0m \u001b[38;5;66;03m#    names.append(row.entity.strip()[len(pref):])\u001b[39;00m\n\u001b[0;32m     12\u001b[0m \u001b[38;5;66;03m#    #print(row)\u001b[39;00m\n\u001b[0;32m     14\u001b[0m qres \u001b[38;5;241m=\u001b[39m emtest\u001b[38;5;241m.\u001b[39mquery(allq)\n",
      "File \u001b[1;32m~\\anaconda3\\envs\\tenv\\lib\\site-packages\\rdflib\\graph.py:1467\u001b[0m, in \u001b[0;36mGraph.parse\u001b[1;34m(self, source, publicID, format, location, file, data, **args)\u001b[0m\n\u001b[0;32m   1372\u001b[0m \u001b[38;5;28;01mdef\u001b[39;00m \u001b[38;5;21mparse\u001b[39m(\n\u001b[0;32m   1373\u001b[0m     \u001b[38;5;28mself\u001b[39m,\n\u001b[0;32m   1374\u001b[0m     source: Optional[\n\u001b[1;32m   (...)\u001b[0m\n\u001b[0;32m   1382\u001b[0m     \u001b[38;5;241m*\u001b[39m\u001b[38;5;241m*\u001b[39margs: Any,\n\u001b[0;32m   1383\u001b[0m ) \u001b[38;5;241m-\u001b[39m\u001b[38;5;241m>\u001b[39m Graph:\n\u001b[0;32m   1384\u001b[0m \u001b[38;5;250m    \u001b[39m\u001b[38;5;124;03m\"\"\"\u001b[39;00m\n\u001b[0;32m   1385\u001b[0m \u001b[38;5;124;03m    Parse an RDF source adding the resulting triples to the Graph.\u001b[39;00m\n\u001b[0;32m   1386\u001b[0m \n\u001b[1;32m   (...)\u001b[0m\n\u001b[0;32m   1464\u001b[0m \n\u001b[0;32m   1465\u001b[0m \u001b[38;5;124;03m    \"\"\"\u001b[39;00m\n\u001b[1;32m-> 1467\u001b[0m     source \u001b[38;5;241m=\u001b[39m \u001b[43mcreate_input_source\u001b[49m\u001b[43m(\u001b[49m\n\u001b[0;32m   1468\u001b[0m \u001b[43m        \u001b[49m\u001b[43msource\u001b[49m\u001b[38;5;241;43m=\u001b[39;49m\u001b[43msource\u001b[49m\u001b[43m,\u001b[49m\n\u001b[0;32m   1469\u001b[0m \u001b[43m        \u001b[49m\u001b[43mpublicID\u001b[49m\u001b[38;5;241;43m=\u001b[39;49m\u001b[43mpublicID\u001b[49m\u001b[43m,\u001b[49m\n\u001b[0;32m   1470\u001b[0m \u001b[43m        \u001b[49m\u001b[43mlocation\u001b[49m\u001b[38;5;241;43m=\u001b[39;49m\u001b[43mlocation\u001b[49m\u001b[43m,\u001b[49m\n\u001b[0;32m   1471\u001b[0m \u001b[43m        \u001b[49m\u001b[43mfile\u001b[49m\u001b[38;5;241;43m=\u001b[39;49m\u001b[43mfile\u001b[49m\u001b[43m,\u001b[49m\n\u001b[0;32m   1472\u001b[0m \u001b[43m        \u001b[49m\u001b[43mdata\u001b[49m\u001b[38;5;241;43m=\u001b[39;49m\u001b[43mdata\u001b[49m\u001b[43m,\u001b[49m\n\u001b[0;32m   1473\u001b[0m \u001b[43m        \u001b[49m\u001b[38;5;28;43mformat\u001b[39;49m\u001b[38;5;241;43m=\u001b[39;49m\u001b[38;5;28;43mformat\u001b[39;49m\u001b[43m,\u001b[49m\n\u001b[0;32m   1474\u001b[0m \u001b[43m    \u001b[49m\u001b[43m)\u001b[49m\n\u001b[0;32m   1475\u001b[0m     \u001b[38;5;28;01mif\u001b[39;00m \u001b[38;5;28mformat\u001b[39m \u001b[38;5;129;01mis\u001b[39;00m \u001b[38;5;28;01mNone\u001b[39;00m:\n\u001b[0;32m   1476\u001b[0m         \u001b[38;5;28mformat\u001b[39m \u001b[38;5;241m=\u001b[39m source\u001b[38;5;241m.\u001b[39mcontent_type\n",
      "File \u001b[1;32m~\\anaconda3\\envs\\tenv\\lib\\site-packages\\rdflib\\parser.py:735\u001b[0m, in \u001b[0;36mcreate_input_source\u001b[1;34m(source, publicID, location, file, data, format)\u001b[0m\n\u001b[0;32m    728\u001b[0m         \u001b[38;5;28;01massert\u001b[39;00m data \u001b[38;5;129;01mis\u001b[39;00m \u001b[38;5;28;01mNone\u001b[39;00m\n\u001b[0;32m    729\u001b[0m         \u001b[38;5;28;01massert\u001b[39;00m source \u001b[38;5;129;01mis\u001b[39;00m \u001b[38;5;28;01mNone\u001b[39;00m\n\u001b[0;32m    730\u001b[0m     (\n\u001b[0;32m    731\u001b[0m         absolute_location,\n\u001b[0;32m    732\u001b[0m         auto_close,\n\u001b[0;32m    733\u001b[0m         file,\n\u001b[0;32m    734\u001b[0m         input_source,\n\u001b[1;32m--> 735\u001b[0m     ) \u001b[38;5;241m=\u001b[39m \u001b[43m_create_input_source_from_location\u001b[49m\u001b[43m(\u001b[49m\n\u001b[0;32m    736\u001b[0m \u001b[43m        \u001b[49m\u001b[43mfile\u001b[49m\u001b[38;5;241;43m=\u001b[39;49m\u001b[43mfile\u001b[49m\u001b[43m,\u001b[49m\n\u001b[0;32m    737\u001b[0m \u001b[43m        \u001b[49m\u001b[38;5;28;43mformat\u001b[39;49m\u001b[38;5;241;43m=\u001b[39;49m\u001b[38;5;28;43mformat\u001b[39;49m\u001b[43m,\u001b[49m\n\u001b[0;32m    738\u001b[0m \u001b[43m        \u001b[49m\u001b[43minput_source\u001b[49m\u001b[38;5;241;43m=\u001b[39;49m\u001b[43minput_source\u001b[49m\u001b[43m,\u001b[49m\n\u001b[0;32m    739\u001b[0m \u001b[43m        \u001b[49m\u001b[43mlocation\u001b[49m\u001b[38;5;241;43m=\u001b[39;49m\u001b[43mlocation\u001b[49m\u001b[43m,\u001b[49m\n\u001b[0;32m    740\u001b[0m \u001b[43m    \u001b[49m\u001b[43m)\u001b[49m\n\u001b[0;32m    742\u001b[0m \u001b[38;5;28;01mif\u001b[39;00m file \u001b[38;5;129;01mis\u001b[39;00m \u001b[38;5;129;01mnot\u001b[39;00m \u001b[38;5;28;01mNone\u001b[39;00m:\n\u001b[0;32m    743\u001b[0m     \u001b[38;5;28;01mif\u001b[39;00m TYPE_CHECKING:\n",
      "File \u001b[1;32m~\\anaconda3\\envs\\tenv\\lib\\site-packages\\rdflib\\parser.py:795\u001b[0m, in \u001b[0;36m_create_input_source_from_location\u001b[1;34m(file, format, input_source, location)\u001b[0m\n\u001b[0;32m    793\u001b[0m \u001b[38;5;28;01mif\u001b[39;00m absolute_location\u001b[38;5;241m.\u001b[39mstartswith(\u001b[38;5;124m\"\u001b[39m\u001b[38;5;124mfile:///\u001b[39m\u001b[38;5;124m\"\u001b[39m):\n\u001b[0;32m    794\u001b[0m     filename \u001b[38;5;241m=\u001b[39m url2pathname(absolute_location\u001b[38;5;241m.\u001b[39mreplace(\u001b[38;5;124m\"\u001b[39m\u001b[38;5;124mfile:///\u001b[39m\u001b[38;5;124m\"\u001b[39m, \u001b[38;5;124m\"\u001b[39m\u001b[38;5;124m/\u001b[39m\u001b[38;5;124m\"\u001b[39m))\n\u001b[1;32m--> 795\u001b[0m     file \u001b[38;5;241m=\u001b[39m \u001b[38;5;28;43mopen\u001b[39;49m\u001b[43m(\u001b[49m\u001b[43mfilename\u001b[49m\u001b[43m,\u001b[49m\u001b[43m \u001b[49m\u001b[38;5;124;43m\"\u001b[39;49m\u001b[38;5;124;43mrb\u001b[39;49m\u001b[38;5;124;43m\"\u001b[39;49m\u001b[43m)\u001b[49m\n\u001b[0;32m    796\u001b[0m \u001b[38;5;28;01melse\u001b[39;00m:\n\u001b[0;32m    797\u001b[0m     input_source \u001b[38;5;241m=\u001b[39m URLInputSource(absolute_location, \u001b[38;5;28mformat\u001b[39m)\n",
      "\u001b[1;31mFileNotFoundError\u001b[0m: [Errno 2] No such file or directory: 'C:\\\\Users\\\\Yamir\\\\Documents\\\\GitHub\\\\OntoWalker\\\\Ebr\\\\mse_ontologies.ttl'"
     ]
    }
   ],
   "source": [
    "allq  = prepareQuery(\"SELECT ?s ?p ?o WHERE {?s ?p ?o}\")\n",
    "\n",
    "filename=\"mse_ontologies.ttl\"\n",
    "this_ontology_url=ontoinfo.path2url(filename)\n",
    "emtest=Graph()\n",
    "emtest.parse(this_ontology_url)\n",
    "#pref = 'http://example/oekg/'\n",
    "#qres = emtest.query(classes)\n",
    "#names=[]\n",
    "#for row in qres:\n",
    "#    names.append(row.entity.strip()[len(pref):])\n",
    "#    #print(row)\n",
    "\n",
    "qres = emtest.query(allq)\n",
    "links=[]\n",
    "for row in qres:\n",
    "    if (\"resourceLocator\" in row.p):\n",
    "        links.append(row.o.strip())"
   ]
  },
  {
   "cell_type": "code",
   "execution_count": 3,
   "id": "ecbad3f5-8675-47a1-adc8-5b81a377e67b",
   "metadata": {},
   "outputs": [],
   "source": [
    "user=\"OCDO\"\n",
    "folder=\"test2\""
   ]
  },
  {
   "cell_type": "code",
   "execution_count": 6,
   "id": "7957048d-be7f-497f-9a1c-bdd7fe290a96",
   "metadata": {},
   "outputs": [],
   "source": [
    "#OUTPUT PATHs\n",
    "outname = \"Output/GitTest.csv\"\n",
    "csv_io.create_csv(outname)"
   ]
  },
  {
   "cell_type": "code",
   "execution_count": 13,
   "id": "d90d2441-7c43-41c9-beea-b39733247016",
   "metadata": {},
   "outputs": [
    {
     "name": "stdout",
     "output_type": "stream",
     "text": [
      "An error occurred: Error code: 401 - {'statusCode': 401, 'message': 'Unauthorized. Access token is missing, invalid, audience is incorrect (https://cognitiveservices.azure.com), or have expired.'}\n"
     ]
    }
   ],
   "source": [
    "def get_ai_model():\n",
    "    from openai import AzureOpenAI\n",
    "    ai_client = AzureOpenAI(\n",
    "      azure_endpoint = \"https://my-east.openai.azure.com/\", \n",
    "      api_key=\"YOUR API KEY\",  \n",
    "      api_version=\"2023-05-15\"\n",
    "    )\n",
    "\n",
    "    #modelName=\"Microsoft.CognitiveServicesOpenAI-20240111194907\"\n",
    "    #deployment_name='gpt-35'\n",
    "    return ai_client\n",
    "\n",
    "try:\n",
    "    my_ai = get_ai_model()\n",
    "    start_phrase = \"say hello\"\n",
    "    \n",
    "    response = my_ai.chat.completions.create(\n",
    "        model=\"gpt-35\", # model = \"deployment_name\".\n",
    "        messages=[\n",
    "            {\"role\": \"system\", \"content\": \"You are a helpful assistant.\"},\n",
    "            {\"role\": \"user\", \"content\": start_phrase}\n",
    "        ]\n",
    "    )\n",
    "    #print(response.choices[0].message.content.format(1))\n",
    "    print(\"AI connected\")\n",
    "except Exception as e:\n",
    "    print(\"An error occurred:\", e)\n",
    "    my_ai = []"
   ]
  },
  {
   "cell_type": "code",
   "execution_count": 5,
   "id": "4181dace-cba1-4071-83e1-d878d1dc092b",
   "metadata": {},
   "outputs": [
    {
     "name": "stdout",
     "output_type": "stream",
     "text": [
      "['.github', 'asmo', 'cdco', 'cdos', 'cmso-ontology', 'DSIM', 'ldo', 'mmss', 'pldo', 'podo']\n"
     ]
    }
   ],
   "source": [
    "repo_list = gitcrawl.get_user_repos(user,git)"
   ]
  },
  {
   "cell_type": "code",
   "execution_count": 6,
   "id": "00fa2bd5-8e9d-49a5-9553-f911d3cfea9d",
   "metadata": {},
   "outputs": [
    {
     "ename": "NameError",
     "evalue": "name 'repo_list' is not defined",
     "output_type": "error",
     "traceback": [
      "\u001b[1;31m---------------------------------------------------------------------------\u001b[0m",
      "\u001b[1;31mNameError\u001b[0m                                 Traceback (most recent call last)",
      "Cell \u001b[1;32mIn[6], line 1\u001b[0m\n\u001b[1;32m----> 1\u001b[0m \u001b[38;5;28;01mfor\u001b[39;00m repo \u001b[38;5;129;01min\u001b[39;00m \u001b[43mrepo_list\u001b[49m:\n\u001b[0;32m      2\u001b[0m         time\u001b[38;5;241m.\u001b[39msleep(\u001b[38;5;241m1\u001b[39m)\n\u001b[0;32m      3\u001b[0m         \u001b[38;5;28mprint\u001b[39m(\u001b[38;5;124m\"\u001b[39m\u001b[38;5;124mNEXT REPO\u001b[39m\u001b[38;5;124m\"\u001b[39m)\n",
      "\u001b[1;31mNameError\u001b[0m: name 'repo_list' is not defined"
     ]
    }
   ],
   "source": [
    "for repo in repo_list:\n",
    "        time.sleep(1)\n",
    "        print(\"NEXT REPO\")\n",
    "        prefix=\"https://github.com\"\n",
    "        subfold=\"/\"+user+\"/\"+repo\n",
    "        print(\"link=\" + prefix + subfold)\n",
    "        repath = folder+subfold \n",
    "        try:\n",
    "            clone_repo(folder,user,repo)\n",
    "        except:\n",
    "            print(\"repo exists?\")\n",
    "            pass\n",
    "            \n",
    "        try:\n",
    "            repobj = Repository(repath)\n",
    "        except:\n",
    "             print(\"repo failed to found?\")\n",
    "             continue\n",
    "\n",
    "        #INFO FROM REPOSITORY ITSELF\n",
    "        [lastdate,inidate] = gitcrawl.get_first_last_commit(repobj)   #first commit date\n",
    "\n",
    "        if (my_ai!=[]):\n",
    "            read_info = gitcrawl.extract_readme(repath,my_ai)        #parse README.md if available (with AI currently)\n",
    "        else:\n",
    "            read_info = [\"no info\",\"no info\",\"no info\"]       #otherwise no info - contact point, related project, documentation link\n",
    "    \n",
    "        lic_info = gitcrawl.extract_license(repath)        #get first line of the LICENSE file\n",
    "    \n",
    "        #looking for onto files\n",
    "        onto_infos=[]\n",
    "        scores=[]\n",
    "        maxscore=-1\n",
    "        for ext in ontoinfo.ext_list:  #check all ontology extensions\n",
    "                files = glob.glob(repath + '/**/*.' + ext, recursive=True)\n",
    "                for fi in files:\n",
    "                    success = ontoinfo.querry_successful(fi)  #test querryability of the file\n",
    "                    if (success):\n",
    "\n",
    "                        #LINK TO THE FILE (default branch)\n",
    "                        #x=fi[len(folder):].replace(\"\\\\\",\"/\")\n",
    "                        #ind=[x.start() for x in re.finditer('/',x)][2]\n",
    "                        #branch = Repository(folder + x[:ind]).head.shorthand\n",
    "                        #gitlink = x[:ind] + \"/tree/\" + branch + x[ind:]\n",
    "                        #print(gitlink)\n",
    "                        \n",
    "                        # LINK TO REPOSITORY\n",
    "                        gitlink = prefix + subfold\n",
    "\n",
    "                        if (gitlink in links):\n",
    "                            print(\"ontology already present!\")\n",
    "                        else:\n",
    "                            links.append(gitlink)\n",
    "                            \n",
    "                        #extract information from ontology file\n",
    "                        oinfo_fill = ontoinfo.extract_info(fi,gitlink)   \n",
    "\n",
    "                        #add to the csv file\n",
    "                        csv_io.add_to_csv(outname,oinfo_fill[0],oinfo_fill[1],oinfo_fill[2],oinfo_fill[3],oinfo_fill[4],lic_info,read_info[1],read_info[0],read_info[2],inidate,lastdate)"
   ]
  },
  {
   "cell_type": "code",
   "execution_count": 7,
   "id": "8af6855c-3c1a-4173-b4ea-652136c32287",
   "metadata": {},
   "outputs": [],
   "source": [
    "[lastdate,inidate]  = [2,3]"
   ]
  },
  {
   "cell_type": "code",
   "execution_count": 8,
   "id": "23040c8b-734b-46ff-b8fe-b00dacd0d2b4",
   "metadata": {},
   "outputs": [
    {
     "data": {
      "text/plain": [
       "2"
      ]
     },
     "execution_count": 8,
     "metadata": {},
     "output_type": "execute_result"
    }
   ],
   "source": [
    "lastdate"
   ]
  },
  {
   "cell_type": "code",
   "execution_count": null,
   "id": "9493e3cc-2289-4f2a-95a9-4792d5a17e2c",
   "metadata": {},
   "outputs": [],
   "source": []
  }
 ],
 "metadata": {
  "kernelspec": {
   "display_name": "Python 3 (ipykernel)",
   "language": "python",
   "name": "python3"
  },
  "language_info": {
   "codemirror_mode": {
    "name": "ipython",
    "version": 3
   },
   "file_extension": ".py",
   "mimetype": "text/x-python",
   "name": "python",
   "nbconvert_exporter": "python",
   "pygments_lexer": "ipython3",
   "version": "3.10.15"
  }
 },
 "nbformat": 4,
 "nbformat_minor": 5
}
