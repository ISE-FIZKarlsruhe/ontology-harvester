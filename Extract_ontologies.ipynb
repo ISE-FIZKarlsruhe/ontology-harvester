{
 "cells": [
  {
   "cell_type": "code",
   "execution_count": 1,
   "id": "54e066b9-b815-4805-a312-72f077731af6",
   "metadata": {},
   "outputs": [],
   "source": [
    "import sys\n",
    "sys.path.insert(1, './lib')\n",
    "import time\n",
    "import csv_io\n",
    "import ontoinfo\n",
    "import gitcrawl\n",
    "from github import Github\n",
    "from github import Auth\n",
    "from pygit2 import Repository\n",
    "import glob\n",
    "import re"
   ]
  },
  {
   "cell_type": "code",
   "execution_count": 2,
   "id": "a195fb69-d225-4c1e-9f1c-3e3cd70c8810",
   "metadata": {},
   "outputs": [],
   "source": [
    "auth = Auth.Token(\"YOUR TOKEN\")\n",
    "git = Github(auth=auth)"
   ]
  },
  {
   "cell_type": "code",
   "execution_count": 3,
   "id": "ecbad3f5-8675-47a1-adc8-5b81a377e67b",
   "metadata": {},
   "outputs": [],
   "source": [
    "user=\"OCDO\"\n",
    "folder=\"test2\""
   ]
  },
  {
   "cell_type": "code",
   "execution_count": 6,
   "id": "7957048d-be7f-497f-9a1c-bdd7fe290a96",
   "metadata": {},
   "outputs": [],
   "source": [
    "#OUTPUT PATHs\n",
    "outname = \"Output/GitTest.csv\"\n",
    "csv_io.create_csv(outname)"
   ]
  },
  {
   "cell_type": "code",
   "execution_count": 13,
   "id": "d90d2441-7c43-41c9-beea-b39733247016",
   "metadata": {},
   "outputs": [
    {
     "name": "stdout",
     "output_type": "stream",
     "text": [
      "An error occurred: Error code: 401 - {'statusCode': 401, 'message': 'Unauthorized. Access token is missing, invalid, audience is incorrect (https://cognitiveservices.azure.com), or have expired.'}\n"
     ]
    }
   ],
   "source": [
    "def get_ai_model():\n",
    "    from openai import AzureOpenAI\n",
    "    ai_client = AzureOpenAI(\n",
    "      azure_endpoint = \"https://my-east.openai.azure.com/\", \n",
    "      api_key=\"YOUR API KEY\",  \n",
    "      api_version=\"2023-05-15\"\n",
    "    )\n",
    "\n",
    "    #modelName=\"Microsoft.CognitiveServicesOpenAI-20240111194907\"\n",
    "    #deployment_name='gpt-35'\n",
    "    return ai_client\n",
    "\n",
    "try:\n",
    "    my_ai = get_ai_model()\n",
    "    start_phrase = \"say hello\"\n",
    "    \n",
    "    response = my_ai.chat.completions.create(\n",
    "        model=\"gpt-35\", # model = \"deployment_name\".\n",
    "        messages=[\n",
    "            {\"role\": \"system\", \"content\": \"You are a helpful assistant.\"},\n",
    "            {\"role\": \"user\", \"content\": start_phrase}\n",
    "        ]\n",
    "    )\n",
    "    #print(response.choices[0].message.content.format(1))\n",
    "    print(\"AI connected\")\n",
    "except Exception as e:\n",
    "    print(\"An error occurred:\", e)\n",
    "    my_ai = []"
   ]
  },
  {
   "cell_type": "code",
   "execution_count": 5,
   "id": "4181dace-cba1-4071-83e1-d878d1dc092b",
   "metadata": {},
   "outputs": [
    {
     "name": "stdout",
     "output_type": "stream",
     "text": [
      "['.github', 'asmo', 'cdco', 'cdos', 'cmso-ontology', 'DSIM', 'ldo', 'mmss', 'pldo', 'podo']\n"
     ]
    }
   ],
   "source": [
    "repo_list = gitcrawl.get_user_repos(user,git)"
   ]
  },
  {
   "cell_type": "code",
   "execution_count": 14,
   "id": "00fa2bd5-8e9d-49a5-9553-f911d3cfea9d",
   "metadata": {},
   "outputs": [
    {
     "name": "stdout",
     "output_type": "stream",
     "text": [
      "NEXT REPO\n",
      "link=https://github.com/OCDO/.github\n",
      "repo exists?\n",
      "21.9.2024\n",
      "29.1.2024\n",
      "NEXT REPO\n",
      "link=https://github.com/OCDO/asmo\n",
      "repo exists?\n",
      "21.9.2024\n",
      "2.2.2023\n"
     ]
    },
    {
     "name": "stderr",
     "output_type": "stream",
     "text": [
      "\n",
      "1,Atomistic Simulation Methods Ontology (ASMO),http://purls.helmholtz-metadaten.de/asmo/, does not look like a valid URI, trying to serialize this will break.\n",
      "\n",
      "1,Atomistic Simulation Methods Ontology (ASMO),http://purls.helmholtz-metadaten.de/asmo/,https://github.com/OCDO/asmo/tree/main/asmo.owl, does not look like a valid URI, trying to serialize this will break.\n",
      "\n",
      "1,Atomistic Simulation Methods Ontology (ASMO),http://purls.helmholtz-metadaten.de/asmo/,https://github.com/OCDO/asmo/tree/main/asmo.owl,https://orcid.org/0000-0001-7564-7990, does not look like a valid URI, trying to serialize this will break.\n",
      "\n",
      "1,Atomistic Simulation Methods Ontology (ASMO),http://purls.helmholtz-metadaten.de/asmo/,https://github.com/OCDO/asmo/tree/main/asmo.owl,https://orcid.org/0000-0001-7564-7990,Attribution 4.0 International, does not look like a valid URI, trying to serialize this will break.\n",
      "\n",
      "1,Atomistic Simulation Methods Ontology (ASMO),http://purls.helmholtz-metadaten.de/asmo/,https://github.com/OCDO/asmo/tree/main/asmo.owl,https://orcid.org/0000-0001-7564-7990,Attribution 4.0 International,no info, does not look like a valid URI, trying to serialize this will break.\n",
      "\n",
      "1,Atomistic Simulation Methods Ontology (ASMO),http://purls.helmholtz-metadaten.de/asmo/,https://github.com/OCDO/asmo/tree/main/asmo.owl,https://orcid.org/0000-0001-7564-7990,Attribution 4.0 International,no info,no info, does not look like a valid URI, trying to serialize this will break.\n",
      "\n",
      "1,Atomistic Simulation Methods Ontology (ASMO),http://purls.helmholtz-metadaten.de/asmo/,https://github.com/OCDO/asmo/tree/main/asmo.owl,https://orcid.org/0000-0001-7564-7990,Attribution 4.0 International,no info,no info,no info, does not look like a valid URI, trying to serialize this will break.\n",
      "\n",
      "1,Atomistic Simulation Methods Ontology (ASMO),http://purls.helmholtz-metadaten.de/asmo/,https://github.com/OCDO/asmo/tree/main/asmo.owl,https://orcid.org/0000-0001-7564-7990,Attribution 4.0 International,no info,no info,no info,2.2.2023, does not look like a valid URI, trying to serialize this will break.\n",
      "\n",
      "1,Atomistic Simulation Methods Ontology (ASMO),http://purls.helmholtz-metadaten.de/asmo/,https://github.com/OCDO/asmo/tree/main/asmo.owl,https://orcid.org/0000-0001-7564-7990,Attribution 4.0 International,no info,no info,no info,2.2.2023,owl:Ontology, does not look like a valid URI, trying to serialize this will break.\n",
      "\n",
      "1,Atomistic Simulation Methods Ontology (ASMO),http://purls.helmholtz-metadaten.de/asmo/,https://github.com/OCDO/asmo/tree/main/asmo.owl,https://orcid.org/0000-0001-7564-7990,Attribution 4.0 International,no info,no info,no info,2.2.2023,owl:Ontology,A unit of measure; or unit; is a particular quantity value that has been chosen as a scale for measuring other quantities the same kind (more generally of equivalent dimension). For example; the meter, does not look like a valid URI, trying to serialize this will break.\n"
     ]
    },
    {
     "name": "stdout",
     "output_type": "stream",
     "text": [
      "http://purls.helmholtz-metadaten.de/asmo/\n",
      "Atomistic Simulation Methods Ontology (ASMO)\n",
      "https://orcid.org/0000-0001-7564-7990\n",
      "https://github.com/OCDO/asmo/tree/main/asmo.owl\n"
     ]
    },
    {
     "name": "stderr",
     "output_type": "stream",
     "text": [
      "\n",
      "2,Crystallographic Defect Core Ontology,http://purls.helmholtz-metadaten.de/cdos/cdco, does not look like a valid URI, trying to serialize this will break.\n",
      "\n",
      "2,Crystallographic Defect Core Ontology,http://purls.helmholtz-metadaten.de/cdos/cdco,https://github.com/OCDO/cdco/tree/main/cdco.owl, does not look like a valid URI, trying to serialize this will break.\n",
      "\n",
      "2,Crystallographic Defect Core Ontology,http://purls.helmholtz-metadaten.de/cdos/cdco,https://github.com/OCDO/cdco/tree/main/cdco.owl,https://orcid.org/0000-0001-7564-7990, does not look like a valid URI, trying to serialize this will break.\n",
      "\n",
      "2,Crystallographic Defect Core Ontology,http://purls.helmholtz-metadaten.de/cdos/cdco,https://github.com/OCDO/cdco/tree/main/cdco.owl,https://orcid.org/0000-0001-7564-7990,no info, does not look like a valid URI, trying to serialize this will break.\n",
      "\n",
      "2,Crystallographic Defect Core Ontology,http://purls.helmholtz-metadaten.de/cdos/cdco,https://github.com/OCDO/cdco/tree/main/cdco.owl,https://orcid.org/0000-0001-7564-7990,no info,no info, does not look like a valid URI, trying to serialize this will break.\n",
      "\n",
      "2,Crystallographic Defect Core Ontology,http://purls.helmholtz-metadaten.de/cdos/cdco,https://github.com/OCDO/cdco/tree/main/cdco.owl,https://orcid.org/0000-0001-7564-7990,no info,no info,no info, does not look like a valid URI, trying to serialize this will break.\n",
      "\n",
      "2,Crystallographic Defect Core Ontology,http://purls.helmholtz-metadaten.de/cdos/cdco,https://github.com/OCDO/cdco/tree/main/cdco.owl,https://orcid.org/0000-0001-7564-7990,no info,no info,no info,no info, does not look like a valid URI, trying to serialize this will break.\n",
      "\n",
      "2,Crystallographic Defect Core Ontology,http://purls.helmholtz-metadaten.de/cdos/cdco,https://github.com/OCDO/cdco/tree/main/cdco.owl,https://orcid.org/0000-0001-7564-7990,no info,no info,no info,no info,2.2.2024, does not look like a valid URI, trying to serialize this will break.\n",
      "\n",
      "2,Crystallographic Defect Core Ontology,http://purls.helmholtz-metadaten.de/cdos/cdco,https://github.com/OCDO/cdco/tree/main/cdco.owl,https://orcid.org/0000-0001-7564-7990,no info,no info,no info,no info,2.2.2024,owl:Ontology, does not look like a valid URI, trying to serialize this will break.\n",
      "\n",
      "2,Crystallographic Defect Core Ontology,http://purls.helmholtz-metadaten.de/cdos/cdco,https://github.com/OCDO/cdco/tree/main/cdco.owl,https://orcid.org/0000-0001-7564-7990,no info,no info,no info,no info,2.2.2024,owl:Ontology,Crystallographic Defect Core Ontology (CDCO), does not look like a valid URI, trying to serialize this will break.\n"
     ]
    },
    {
     "name": "stdout",
     "output_type": "stream",
     "text": [
      "NEXT REPO\n",
      "link=https://github.com/OCDO/cdco\n",
      "repo exists?\n",
      "12.4.2024\n",
      "2.2.2024\n",
      "http://purls.helmholtz-metadaten.de/cdos/cdco\n",
      "Crystallographic Defect Core Ontology\n",
      "https://orcid.org/0000-0001-7564-7990\n",
      "https://github.com/OCDO/cdco/tree/main/cdco.owl\n",
      "NEXT REPO\n",
      "link=https://github.com/OCDO/cdos\n",
      "repo exists?\n",
      "30.1.2024\n",
      "30.1.2024\n"
     ]
    },
    {
     "ename": "KeyboardInterrupt",
     "evalue": "",
     "output_type": "error",
     "traceback": [
      "\u001b[1;31m---------------------------------------------------------------------------\u001b[0m",
      "\u001b[1;31mKeyboardInterrupt\u001b[0m                         Traceback (most recent call last)",
      "Cell \u001b[1;32mIn[14], line 2\u001b[0m\n\u001b[0;32m      1\u001b[0m \u001b[38;5;28;01mfor\u001b[39;00m repo \u001b[38;5;129;01min\u001b[39;00m repo_list:\n\u001b[1;32m----> 2\u001b[0m         \u001b[43mtime\u001b[49m\u001b[38;5;241;43m.\u001b[39;49m\u001b[43msleep\u001b[49m\u001b[43m(\u001b[49m\u001b[38;5;241;43m1\u001b[39;49m\u001b[43m)\u001b[49m\n\u001b[0;32m      3\u001b[0m         \u001b[38;5;28mprint\u001b[39m(\u001b[38;5;124m\"\u001b[39m\u001b[38;5;124mNEXT REPO\u001b[39m\u001b[38;5;124m\"\u001b[39m)\n\u001b[0;32m      4\u001b[0m         prefix\u001b[38;5;241m=\u001b[39m\u001b[38;5;124m\"\u001b[39m\u001b[38;5;124mhttps://github.com\u001b[39m\u001b[38;5;124m\"\u001b[39m\n",
      "\u001b[1;31mKeyboardInterrupt\u001b[0m: "
     ]
    }
   ],
   "source": [
    "for repo in repo_list:\n",
    "        time.sleep(1)\n",
    "        print(\"NEXT REPO\")\n",
    "        prefix=\"https://github.com\"\n",
    "        subfold=\"/\"+user+\"/\"+repo\n",
    "        print(\"link=\" + prefix + subfold)\n",
    "        repath = folder+subfold \n",
    "        try:\n",
    "            clone_repo(folder,user,repo)\n",
    "        except:\n",
    "            print(\"repo exists?\")\n",
    "            pass\n",
    "            \n",
    "        try:\n",
    "            repobj = Repository(repath)\n",
    "        except:\n",
    "             print(\"repo failed to found?\")\n",
    "             continue\n",
    "\n",
    "        #INFO FROM REPOSITORY ITSELF\n",
    "        inidate = gitcrawl.get_first_last_commit(repobj)[1]   #first commit date\n",
    "\n",
    "        if (my_ai!=[]):\n",
    "            read_info = gitcrawl.extract_readme(repath,my_ai)        #parse README.md if available (with AI currently)\n",
    "        else:\n",
    "            read_info = [\"no info\",\"no info\",\"no info\"]       #otherwise no info - contact point, related project, documentation link\n",
    "    \n",
    "        lic_info = gitcrawl.extract_license(repath)        #get first line of the LICENSE file\n",
    "    \n",
    "        #looking for onto files\n",
    "        onto_infos=[]\n",
    "        scores=[]\n",
    "        maxscore=-1\n",
    "        for ext in ontoinfo.ext_list:  #check all ontology extensions\n",
    "                files = glob.glob(repath + '/**/*.' + ext, recursive=True)\n",
    "                for fi in files:\n",
    "                    success = ontoinfo.querry_successful(fi)  #test querryability of the file\n",
    "                    if (success):\n",
    "\n",
    "                        #LINK TO THE FILE (default branch)\n",
    "                        x=fi[len(folder):].replace(\"\\\\\",\"/\")\n",
    "                        ind=[x.start() for x in re.finditer('/',x)][2]\n",
    "                        branch = Repository(folder + x[:ind]).head.shorthand\n",
    "                        gitlink = x[:ind] + \"/tree/\" + branch + x[ind:]\n",
    "                        #print(gitlink)\n",
    "                        \n",
    "                        # LINK TO REPOSITORY\n",
    "                        #gitlink = prefix + subfold\n",
    "\n",
    "                        #extract information from ontology file\n",
    "                        oinfo_fill = ontoinfo.extract_info(fi,gitlink)   \n",
    "\n",
    "                        #add to the csv file\n",
    "                        csv_io.add_to_csv(outname,oinfo_fill[0],oinfo_fill[1],oinfo_fill[2],oinfo_fill[3],oinfo_fill[4],lic_info,read_info[1],read_info[0],read_info[2],inidate,\"owl:Ontology\")"
   ]
  },
  {
   "cell_type": "code",
   "execution_count": null,
   "id": "8af6855c-3c1a-4173-b4ea-652136c32287",
   "metadata": {},
   "outputs": [],
   "source": []
  }
 ],
 "metadata": {
  "kernelspec": {
   "display_name": "Python 3 (ipykernel)",
   "language": "python",
   "name": "python3"
  },
  "language_info": {
   "codemirror_mode": {
    "name": "ipython",
    "version": 3
   },
   "file_extension": ".py",
   "mimetype": "text/x-python",
   "name": "python",
   "nbconvert_exporter": "python",
   "pygments_lexer": "ipython3",
   "version": "3.10.15"
  }
 },
 "nbformat": 4,
 "nbformat_minor": 5
}
