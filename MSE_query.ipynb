{
 "cells": [
  {
   "cell_type": "code",
   "execution_count": 1,
   "id": "41c49cd6-09e2-49f4-ac9d-fa5aeb80ec54",
   "metadata": {},
   "outputs": [],
   "source": [
    "from SPARQLWrapper import SPARQLWrapper, JSON"
   ]
  },
  {
   "cell_type": "code",
   "execution_count": 2,
   "id": "d1afb605",
   "metadata": {},
   "outputs": [],
   "source": [
    "sparql = SPARQLWrapper(\n",
    "    \"https://demo.fiz-karlsruhe.de/sparql\"\n",
    ")\n",
    "sparql.setReturnFormat(JSON)"
   ]
  },
  {
   "cell_type": "code",
   "execution_count": 3,
   "id": "4eab62e3",
   "metadata": {},
   "outputs": [
    {
     "name": "stdout",
     "output_type": "stream",
     "text": [
      "{'data': {'type': 'uri', 'value': 'http://demo.fiz-karlsruhe.de/matwerk/E1246707'}, 'label': {'type': 'literal', 'value': 'APT analysis using Paraprobe-toolbox and pyiron'}, 'fundingProject': {'type': 'uri', 'value': 'http://demo.fiz-karlsruhe.de/matwerk/E1247022'}, 'repo': {'type': 'uri', 'value': 'http://demo.fiz-karlsruhe.de/matwerk/E1246495'}, 'license': {'type': 'uri', 'value': 'http://demo.fiz-karlsruhe.de/matwerk/E1246837'}, 'method': {'type': 'uri', 'value': 'http://demo.fiz-karlsruhe.de/matwerk/E1246872'}, 'LicenseLabel': {'type': 'literal', 'value': 'GPL 3 License'}, 'methodlabel': {'type': 'literal', 'value': 'Atom Probe Tomography'}}\n",
      "{'data': {'type': 'uri', 'value': 'http://demo.fiz-karlsruhe.de/matwerk/E1246677'}, 'label': {'type': 'literal', 'value': 'APT analysis using CompositionSpace and pyiron'}, 'fundingProject': {'type': 'uri', 'value': 'http://demo.fiz-karlsruhe.de/matwerk/E1247022'}, 'repo': {'type': 'uri', 'value': 'http://demo.fiz-karlsruhe.de/matwerk/E1246495'}, 'license': {'type': 'uri', 'value': 'http://demo.fiz-karlsruhe.de/matwerk/E1246837'}, 'method': {'type': 'uri', 'value': 'http://demo.fiz-karlsruhe.de/matwerk/E1246872'}, 'LicenseLabel': {'type': 'literal', 'value': 'GPL 3 License'}, 'methodlabel': {'type': 'literal', 'value': 'Atom Probe Tomography'}}\n",
      "{'data': {'type': 'uri', 'value': 'http://demo.fiz-karlsruhe.de/matwerk/E1246707'}, 'label': {'type': 'literal', 'value': 'APT analysis using Paraprobe-toolbox and pyiron'}, 'fundingProject': {'type': 'uri', 'value': 'http://demo.fiz-karlsruhe.de/matwerk/E1247062'}, 'repo': {'type': 'uri', 'value': 'http://demo.fiz-karlsruhe.de/matwerk/E1246495'}, 'license': {'type': 'uri', 'value': 'http://demo.fiz-karlsruhe.de/matwerk/E1246837'}, 'method': {'type': 'uri', 'value': 'http://demo.fiz-karlsruhe.de/matwerk/E1246872'}, 'LicenseLabel': {'type': 'literal', 'value': 'GPL 3 License'}, 'methodlabel': {'type': 'literal', 'value': 'Atom Probe Tomography'}}\n"
     ]
    }
   ],
   "source": [
    "#  What are Computational Workflows associated with the Atom Probe Tomography method? List the funding project(s), license and repository URI\n",
    "\n",
    "sparql.setQuery(\"\"\"\n",
    "PREFIX nfdicore: <https://nfdi.fiz-karlsruhe.de/ontology/>\n",
    "PREFIX rdfs: <http://www.w3.org/2000/01/rdf-schema#>\n",
    "PREFIX mwo: <http://purls.helmholtz-metadaten.de/mwo/>\n",
    "PREFIX swo: <http://www.ebi.ac.uk/swo/>\n",
    "\n",
    "SELECT DISTINCT *\n",
    "WHERE {\n",
    "    ?data rdf:type mwo:ComputationalWorkflow.\n",
    "    ?data rdfs:label ?label .\n",
    "    ?data nfdicore:fundingProject ?fundingProject.\n",
    "   ?data mwo:hasRepository ?repo.\n",
    "   ?data swo:has_license ?license. \n",
    "  ?data mwo:usesMethod ?method.\n",
    "   ?license rdfs:label ?LicenseLabel .\n",
    "?method rdfs:label ?methodlabel  FILTER CONTAINS(?methodlabel, \"Atom Probe Tomography\") \n",
    "}\n",
    "\"\"\"\n",
    ")\n",
    "\n",
    "try:\n",
    "    ret = sparql.queryAndConvert()\n",
    "    for r in ret[\"results\"][\"bindings\"]:\n",
    "            print(r)\n",
    "except Exception as e:\n",
    "    print(e)"
   ]
  },
  {
   "cell_type": "code",
   "execution_count": null,
   "id": "bff42301",
   "metadata": {},
   "outputs": [],
   "source": []
  }
 ],
 "metadata": {
  "kernelspec": {
   "display_name": "Python 3 (ipykernel)",
   "language": "python",
   "name": "python3"
  },
  "language_info": {
   "codemirror_mode": {
    "name": "ipython",
    "version": 3
   },
   "file_extension": ".py",
   "mimetype": "text/x-python",
   "name": "python",
   "nbconvert_exporter": "python",
   "pygments_lexer": "ipython3",
   "version": "3.10.15"
  }
 },
 "nbformat": 4,
 "nbformat_minor": 5
}
